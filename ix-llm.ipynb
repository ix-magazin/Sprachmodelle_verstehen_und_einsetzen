{
 "cells": [
  {
   "cell_type": "code",
   "execution_count": 1,
   "id": "fb258b93",
   "metadata": {},
   "outputs": [],
   "source": [
    "from transformers import pipeline"
   ]
  },
  {
   "cell_type": "code",
   "execution_count": 2,
   "id": "1db28dcb",
   "metadata": {},
   "outputs": [],
   "source": [
    "sentiment = pipeline(\"sentiment-analysis\", \n",
    "                     model=\"nlptown/bert-base-multilingual-uncased-sentiment\")"
   ]
  },
  {
   "cell_type": "code",
   "execution_count": 4,
   "id": "a53042b6",
   "metadata": {
    "scrolled": true
   },
   "outputs": [],
   "source": [
    "texts = [\"Das funktioniert überhaupt nicht.\",\n",
    "         \"Ich bin absolut begeistert!\",\n",
    "         \"Works like a charm.\",\n",
    "         \"J'aime beaucoup.\",\n",
    "         \"Der letzte Müll!\"]\n",
    "output = sentiment(texts)"
   ]
  },
  {
   "cell_type": "code",
   "execution_count": 5,
   "id": "76fe380b",
   "metadata": {},
   "outputs": [
    {
     "data": {
      "text/html": [
       "<div><div id=84c9e3dd-fdef-42f6-89d9-7a8356201c6e style=\"display:none; background-color:#9D6CFF; color:white; width:200px; height:30px; padding-left:5px; border-radius:4px; flex-direction:row; justify-content:space-around; align-items:center;\" onmouseover=\"this.style.backgroundColor='#BA9BF8'\" onmouseout=\"this.style.backgroundColor='#9D6CFF'\" onclick=\"window.commands?.execute('create-mitosheet-from-dataframe-output');\">See Full Dataframe in Mito</div> <script> if (window.commands?.hasCommand('create-mitosheet-from-dataframe-output')) document.getElementById('84c9e3dd-fdef-42f6-89d9-7a8356201c6e').style.display = 'flex' </script> <table border=\"1\" class=\"dataframe\">\n",
       "  <thead>\n",
       "    <tr style=\"text-align: right;\">\n",
       "      <th></th>\n",
       "      <th>label</th>\n",
       "      <th>score</th>\n",
       "      <th>text</th>\n",
       "    </tr>\n",
       "  </thead>\n",
       "  <tbody>\n",
       "    <tr>\n",
       "      <th>0</th>\n",
       "      <td>1 star</td>\n",
       "      <td>0.905974</td>\n",
       "      <td>Das funktioniert überhaupt nicht.</td>\n",
       "    </tr>\n",
       "    <tr>\n",
       "      <th>1</th>\n",
       "      <td>5 stars</td>\n",
       "      <td>0.927584</td>\n",
       "      <td>Ich bin absolut begeistert!</td>\n",
       "    </tr>\n",
       "    <tr>\n",
       "      <th>2</th>\n",
       "      <td>5 stars</td>\n",
       "      <td>0.641361</td>\n",
       "      <td>Works like a charm.</td>\n",
       "    </tr>\n",
       "    <tr>\n",
       "      <th>3</th>\n",
       "      <td>5 stars</td>\n",
       "      <td>0.473482</td>\n",
       "      <td>J'aime beaucoup.</td>\n",
       "    </tr>\n",
       "    <tr>\n",
       "      <th>4</th>\n",
       "      <td>1 star</td>\n",
       "      <td>0.808242</td>\n",
       "      <td>Der letzte Müll!</td>\n",
       "    </tr>\n",
       "  </tbody>\n",
       "</table></div>"
      ],
      "text/plain": [
       "     label     score                               text\n",
       "0   1 star  0.905974  Das funktioniert überhaupt nicht.\n",
       "1  5 stars  0.927584        Ich bin absolut begeistert!\n",
       "2  5 stars  0.641361                Works like a charm.\n",
       "3  5 stars  0.473482                   J'aime beaucoup.\n",
       "4   1 star  0.808242                   Der letzte Müll!"
      ]
     },
     "execution_count": 5,
     "metadata": {},
     "output_type": "execute_result"
    }
   ],
   "source": [
    "import pandas as pd\n",
    "df = pd.DataFrame(output)\n",
    "df[\"text\"] = texts\n",
    "df"
   ]
  },
  {
   "cell_type": "code",
   "execution_count": null,
   "id": "0e3fecbc",
   "metadata": {},
   "outputs": [],
   "source": []
  },
  {
   "cell_type": "code",
   "execution_count": 8,
   "id": "d3b2c49e",
   "metadata": {},
   "outputs": [],
   "source": [
    "from readability import Document\n",
    "import requests\n",
    "from bs4 import BeautifulSoup\n",
    "doc = Document(requests.get(\"https://en.wikipedia.org/wiki/BERT_(language_model)\", \n",
    "                            stream=True).text)\n",
    "soup = BeautifulSoup(doc.summary())            \n",
    "content = soup.text"
   ]
  },
  {
   "cell_type": "code",
   "execution_count": 9,
   "id": "722e7934",
   "metadata": {},
   "outputs": [
    {
     "data": {
      "application/vnd.jupyter.widget-view+json": {
       "model_id": "ebef0f3513564d21874a01807e869d62",
       "version_major": 2,
       "version_minor": 0
      },
      "text/plain": [
       "Downloading (…)lve/main/config.json:   0%|          | 0.00/1.80k [00:00<?, ?B/s]"
      ]
     },
     "metadata": {},
     "output_type": "display_data"
    },
    {
     "data": {
      "application/vnd.jupyter.widget-view+json": {
       "model_id": "0d8b8d5301f446a9baea38e89bcfee90",
       "version_major": 2,
       "version_minor": 0
      },
      "text/plain": [
       "Downloading pytorch_model.bin:   0%|          | 0.00/1.22G [00:00<?, ?B/s]"
      ]
     },
     "metadata": {},
     "output_type": "display_data"
    },
    {
     "data": {
      "application/vnd.jupyter.widget-view+json": {
       "model_id": "8508d02767154eceb86a12ce07f1116d",
       "version_major": 2,
       "version_minor": 0
      },
      "text/plain": [
       "Downloading (…)okenizer_config.json:   0%|          | 0.00/26.0 [00:00<?, ?B/s]"
      ]
     },
     "metadata": {},
     "output_type": "display_data"
    },
    {
     "data": {
      "application/vnd.jupyter.widget-view+json": {
       "model_id": "72ff080d6009465aadefa579adef6d66",
       "version_major": 2,
       "version_minor": 0
      },
      "text/plain": [
       "Downloading (…)olve/main/vocab.json:   0%|          | 0.00/899k [00:00<?, ?B/s]"
      ]
     },
     "metadata": {},
     "output_type": "display_data"
    },
    {
     "data": {
      "application/vnd.jupyter.widget-view+json": {
       "model_id": "b09c5a47a5df4885948196e5b525bb65",
       "version_major": 2,
       "version_minor": 0
      },
      "text/plain": [
       "Downloading (…)olve/main/merges.txt:   0%|          | 0.00/456k [00:00<?, ?B/s]"
      ]
     },
     "metadata": {},
     "output_type": "display_data"
    }
   ],
   "source": [
    "summarizer = pipeline(\"summarization\", model=\"sshleifer/distilbart-cnn-12-6\")"
   ]
  },
  {
   "cell_type": "code",
   "execution_count": 10,
   "id": "039261be",
   "metadata": {},
   "outputs": [
    {
     "data": {
      "text/plain": [
       "[{'summary_text': ' Masked neural language model developed by Google . Bidirectional Encoder Representations from Transformers (BERT) is a family of masked-language models introduced in 2018 . BERT uses WordPiece to convert each English word into an integer code . Its vocabulary has size 30,000 .'}]"
      ]
     },
     "execution_count": 10,
     "metadata": {},
     "output_type": "execute_result"
    }
   ],
   "source": [
    "output = summarizer(content[0:4000])\n",
    "output"
   ]
  },
  {
   "cell_type": "code",
   "execution_count": null,
   "id": "1903ff5c",
   "metadata": {},
   "outputs": [],
   "source": []
  },
  {
   "cell_type": "code",
   "execution_count": 11,
   "id": "9eabb7fc",
   "metadata": {},
   "outputs": [
    {
     "data": {
      "text/plain": [
       "['Meine Lieblingssprache ist Python.',\n",
       " 'Ich programmiere gerne in Java.',\n",
       " 'Webseiten werden mit HTML gestaltet.',\n",
       " 'Für Data Science sind Jupyter Notebooks gut geeignet.',\n",
       " 'BPNM dient zur Modellierung von Geschäftsprozessen']"
      ]
     },
     "execution_count": 11,
     "metadata": {},
     "output_type": "execute_result"
    }
   ],
   "source": [
    "sentences = \"\"\"\n",
    "Meine Lieblingssprache ist Python.\n",
    "Ich programmiere gerne in Java.\n",
    "Webseiten werden mit HTML gestaltet.\n",
    "Für Data Science sind Jupyter Notebooks gut geeignet.\n",
    "BPNM dient zur Modellierung von Geschäftsprozessen\n",
    "\"\"\".split(\"\\n\")\n",
    "sentences = [s for s in sentences if s != '']\n",
    "sentences"
   ]
  },
  {
   "cell_type": "code",
   "execution_count": 15,
   "id": "545ed4f3",
   "metadata": {},
   "outputs": [],
   "source": [
    "from sentence_transformers import SentenceTransformer, util\n",
    "\n",
    "model = SentenceTransformer('distiluse-base-multilingual-cased-v1')\n",
    "embeddings = model.encode(sentences)"
   ]
  },
  {
   "cell_type": "code",
   "execution_count": 16,
   "id": "6b0d6e6a",
   "metadata": {},
   "outputs": [
    {
     "data": {
      "text/html": [
       "<div><div id=8648bd80-558d-48a4-b651-c3b521a8307c style=\"display:none; background-color:#9D6CFF; color:white; width:200px; height:30px; padding-left:5px; border-radius:4px; flex-direction:row; justify-content:space-around; align-items:center;\" onmouseover=\"this.style.backgroundColor='#BA9BF8'\" onmouseout=\"this.style.backgroundColor='#9D6CFF'\" onclick=\"window.commands?.execute('create-mitosheet-from-dataframe-output');\">See Full Dataframe in Mito</div> <script> if (window.commands?.hasCommand('create-mitosheet-from-dataframe-output')) document.getElementById('8648bd80-558d-48a4-b651-c3b521a8307c').style.display = 'flex' </script> <table border=\"1\" class=\"dataframe\">\n",
       "  <thead>\n",
       "    <tr style=\"text-align: right;\">\n",
       "      <th></th>\n",
       "      <th>Meine Lieblingssprache ist Python.</th>\n",
       "      <th>Ich programmiere gerne in Java.</th>\n",
       "      <th>Webseiten werden mit HTML gestaltet.</th>\n",
       "      <th>Für Data Science sind Jupyter Notebooks gut geeignet.</th>\n",
       "      <th>BPNM dient zur Modellierung von Geschäftsprozessen</th>\n",
       "    </tr>\n",
       "  </thead>\n",
       "  <tbody>\n",
       "    <tr>\n",
       "      <th>Meine Lieblingssprache ist Python.</th>\n",
       "      <td>1.000000</td>\n",
       "      <td>0.452825</td>\n",
       "      <td>0.090428</td>\n",
       "      <td>0.143090</td>\n",
       "      <td>0.017947</td>\n",
       "    </tr>\n",
       "    <tr>\n",
       "      <th>Ich programmiere gerne in Java.</th>\n",
       "      <td>0.452825</td>\n",
       "      <td>1.000000</td>\n",
       "      <td>0.212441</td>\n",
       "      <td>0.253948</td>\n",
       "      <td>0.027977</td>\n",
       "    </tr>\n",
       "    <tr>\n",
       "      <th>Webseiten werden mit HTML gestaltet.</th>\n",
       "      <td>0.090428</td>\n",
       "      <td>0.212441</td>\n",
       "      <td>1.000000</td>\n",
       "      <td>0.055036</td>\n",
       "      <td>0.052099</td>\n",
       "    </tr>\n",
       "    <tr>\n",
       "      <th>Für Data Science sind Jupyter Notebooks gut geeignet.</th>\n",
       "      <td>0.143090</td>\n",
       "      <td>0.253948</td>\n",
       "      <td>0.055036</td>\n",
       "      <td>1.000000</td>\n",
       "      <td>0.029335</td>\n",
       "    </tr>\n",
       "    <tr>\n",
       "      <th>BPNM dient zur Modellierung von Geschäftsprozessen</th>\n",
       "      <td>0.017947</td>\n",
       "      <td>0.027977</td>\n",
       "      <td>0.052099</td>\n",
       "      <td>0.029335</td>\n",
       "      <td>1.000000</td>\n",
       "    </tr>\n",
       "  </tbody>\n",
       "</table></div>"
      ],
      "text/plain": [
       "                                                    Meine Lieblingssprache ist Python.  \\\n",
       "Meine Lieblingssprache ist Python.                                            1.000000   \n",
       "Ich programmiere gerne in Java.                                               0.452825   \n",
       "Webseiten werden mit HTML gestaltet.                                          0.090428   \n",
       "Für Data Science sind Jupyter Notebooks gut gee...                            0.143090   \n",
       "BPNM dient zur Modellierung von Geschäftsprozessen                            0.017947   \n",
       "\n",
       "                                                    Ich programmiere gerne in Java.  \\\n",
       "Meine Lieblingssprache ist Python.                                         0.452825   \n",
       "Ich programmiere gerne in Java.                                            1.000000   \n",
       "Webseiten werden mit HTML gestaltet.                                       0.212441   \n",
       "Für Data Science sind Jupyter Notebooks gut gee...                         0.253948   \n",
       "BPNM dient zur Modellierung von Geschäftsprozessen                         0.027977   \n",
       "\n",
       "                                                    Webseiten werden mit HTML gestaltet.  \\\n",
       "Meine Lieblingssprache ist Python.                                              0.090428   \n",
       "Ich programmiere gerne in Java.                                                 0.212441   \n",
       "Webseiten werden mit HTML gestaltet.                                            1.000000   \n",
       "Für Data Science sind Jupyter Notebooks gut gee...                              0.055036   \n",
       "BPNM dient zur Modellierung von Geschäftsprozessen                              0.052099   \n",
       "\n",
       "                                                    Für Data Science sind Jupyter Notebooks gut geeignet.  \\\n",
       "Meine Lieblingssprache ist Python.                                                           0.143090       \n",
       "Ich programmiere gerne in Java.                                                              0.253948       \n",
       "Webseiten werden mit HTML gestaltet.                                                         0.055036       \n",
       "Für Data Science sind Jupyter Notebooks gut gee...                                           1.000000       \n",
       "BPNM dient zur Modellierung von Geschäftsprozessen                                           0.029335       \n",
       "\n",
       "                                                    BPNM dient zur Modellierung von Geschäftsprozessen  \n",
       "Meine Lieblingssprache ist Python.                                                           0.017947   \n",
       "Ich programmiere gerne in Java.                                                              0.027977   \n",
       "Webseiten werden mit HTML gestaltet.                                                         0.052099   \n",
       "Für Data Science sind Jupyter Notebooks gut gee...                                           0.029335   \n",
       "BPNM dient zur Modellierung von Geschäftsprozessen                                           1.000000   "
      ]
     },
     "execution_count": 16,
     "metadata": {},
     "output_type": "execute_result"
    }
   ],
   "source": [
    "cos_sim = util.cos_sim(embeddings, embeddings)\n",
    "\n",
    "df_sim = pd.DataFrame(cos_sim.numpy(), index=sentences, columns=sentences)\n",
    "df_sim"
   ]
  }
 ],
 "metadata": {
  "kernelspec": {
   "display_name": "Python 3 (ipykernel)",
   "language": "python",
   "name": "python3"
  },
  "language_info": {
   "codemirror_mode": {
    "name": "ipython",
    "version": 3
   },
   "file_extension": ".py",
   "mimetype": "text/x-python",
   "name": "python",
   "nbconvert_exporter": "python",
   "pygments_lexer": "ipython3",
   "version": "3.8.10"
  },
  "toc": {
   "base_numbering": 1,
   "nav_menu": {},
   "number_sections": true,
   "sideBar": true,
   "skip_h1_title": false,
   "title_cell": "Table of Contents",
   "title_sidebar": "Contents",
   "toc_cell": false,
   "toc_position": {},
   "toc_section_display": true,
   "toc_window_display": false
  }
 },
 "nbformat": 4,
 "nbformat_minor": 5
}
